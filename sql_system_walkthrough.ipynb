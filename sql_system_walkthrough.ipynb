{
 "cells": [
  {
   "cell_type": "markdown",
   "metadata": {},
   "source": [
    "# Cognixia SQL Project: Online Chocolate Shop MGMT System\n",
    "\n",
    "### Project Overview:\n",
    "Design and implement a database system for an online chocolate shop. The system should handle various aspects of managing the shop, including inventory management, customers, orders and user authentication\n",
    "\n",
    "**Skills Demonstrated:**\n",
    "\n",
    "#### Beginner:\n",
    "- Creating tables and defining relationships\n",
    "- Basic CRUD(Create, Read, Update, Delete) operations\n",
    "- Simple queries using SELECT, WHERE, and ORDER BY clauses\n",
    "#### Intermediate:\n",
    "- Implementing constraints and indexes for data integrity and performance optimization\n",
    "- Utilizing JOIN operations for querying data from multiple tables\n",
    "- Aggregating data using GROUP BY and aggregate functions\n",
    "- Implementing views and stored procedures for modularizing queries and operations\n",
    "#### Advanced:\n",
    "- Handling transactions for maintaining data consistency and integrity\n",
    "- Implementing complex queries involving subqueries, common table expressions, and window functions\n",
    "- Performance tuning using query optimization techniques like query plans and indexes\n",
    "- Implementing security measures such as roles and permissions to restrict access to sensitive data\n"
   ]
  },
  {
   "cell_type": "markdown",
   "metadata": {},
   "source": [
    "<h1>Table of Contents</h1>\n",
    "\n",
    "<h2 id=\"1-database-design\">1. Database Design</h2>\n",
    "\n",
    "- <a href=\"#1abc-design-database\">Database Design:</a></li>\n",
    "   - Schema (Star Schema 3NF)\n",
    "   - Table Relationships (PK/FK)\n",
    "   - Feature Constraints\n",
    "\n",
    "<h2 id=\"2-data-population\">2. Data Population</h2>\n",
    "<ul>\n",
    "   <li><a href=\"#2a-populate-database\">a. Sample data used & queries to Ensure data consistency and referential integrity</a></li>\n",
    "</ul>\n",
    "\n",
    "<h2 id=\"3-basic-operations\">3. Basic Operations</h2>\n",
    "<ul>\n",
    "   <li><a href=\"#3a-crud-operations\">a. CRUD operations for managing chocolate, customers/users, and orders</a></li>\n",
    "   <li><a href=\"#3b-add-update-delete\">b. Allow users to add, update, and delete records from the database</a></li>\n",
    "</ul>\n",
    "\n",
    "<h2 id=\"4-intermediate-queries\">4. Intermediate Queries</h2>\n",
    "<ul>\n",
    "   <li><a href=\"#4a-retrieve-information\">a. Create queries to retrieve information such as:</a></li>\n",
    "   <ul>\n",
    "     <li><a href=\"#4ai-top-selling\">i. Top-selling chocolate</a></li>\n",
    "     <li><a href=\"#4aii-highest-orders\">ii. Customers with the highest order amounts</a></li>\n",
    "     <li><a href=\"#4aiii-total-revenue\">iii. Total revenue generated over a specific period</a></li>\n",
    "     <li><a href=\"#4aiv-low-inventory\">iv. Chocolate with low inventory levels</a></li>\n",
    "   </ul>\n",
    "</ul>\n",
    "\n",
    "<h2 id=\"5-advanced-features\">5. Advanced Features</h2>\n",
    "<ul>\n",
    "   <li><a href=\"#5a-implement-transactions\">a. Transactions implemented to ensure atomicity and consistency during order processing</a></li>\n",
    "   <li><a href=\"#5b-complex-queries\">b. Stored Procedures to answer specific business questions (e.g., identifying patterns in customer behavior)</a></li>\n",
    "   <li><a href=\"#5c-optimize-performance\">c. Query performance optimization</a></li>\n",
    "   <li><a href=\"#5d-role-based-access\">d. Role-based access control to restrict access to sensitive data and operations</a></li>\n",
    "</ul>\n",
    "\n",
    "<h2 id=\"6-conclusions-next\">6. Conclusions & Next Steps</h2>\n",
    "<ul>\n",
    "   <li><a href=\"#6a-conclusions\">a. Conclusions</a></li>\n",
    "   <li><a href=\"#6b-next-steps\">b. next-steps</a></li>\n",
    "</ul>"
   ]
  },
  {
   "cell_type": "markdown",
   "metadata": {},
   "source": [
    "___"
   ]
  },
  {
   "cell_type": "markdown",
   "metadata": {},
   "source": [
    "\n",
    "\n",
    "<h2 id=\"1abc-design-database\">Database Schema, Relationships & Constraints</h2>\n",
    "\n",
    "\n",
    "### Star Schema 3rd Normal Form:\n",
    "\n",
    "#### 1. Chocolates Dimension Table:\n",
    "\n",
    " |Column| Type | Constraints |\n",
    " |:----:|:----:|:----:|\n",
    " |chocolate_id| integer | Primary Key, Not Null |\n",
    " |chocolate_name | varchar(128) | Not Null |\n",
    " |description | varchar(256) |  |\n",
    " |price | decimal(5,2) | Not Null, Check (price > 0) |\n",
    " |reorder_point | integer | Not Null, DEFAULT 0|\n",
    " |reorder_amount | integer | Not Null, DEFAULT 0|\n",
    " |stock_quantity | integer | Not Null, Check (stock_quantity >= 0)|\n",
    "\n",
    "\n",
    "#### 2. Addresses Dimension Table:\n",
    "\n",
    " |Column| Type | Constraints |\n",
    " |:----:|:----:|:----:|\n",
    " |address_id | integer | Primary Key, Not Null |\n",
    " |state | varchar(128) | Not Null |\n",
    " |city | varchar(128) | Not Null |\n",
    " |zipcode | varchar(10) | Not Null |\n",
    " |street | varchar(256) | Not Null |\n",
    "\n",
    "\n",
    "#### 3. Customers Dimension Table:\n",
    "\n",
    " |Column| Type | Constraints |\n",
    " |:----:|:----:|:----:|\n",
    " |customer_id| integer | Primary Key, Not Null |\n",
    " |fullname | varchar(128) | Not Null |\n",
    " |email | varchar(128) | Not Null, Unique |\n",
    " |password_hash | varchar(128) | Not Null |\n",
    " |phone | varchar(128) | Not Null, Unique |\n",
    " |address_id | integer | FK (References Addresses), Not Null |\n",
    "\n",
    "\n",
    "\n",
    "#### 4. Orders Fact Table:\n",
    "\n",
    "| Column       |     Type     |     Constraints          |\n",
    "|:------------:|:------------:|:------------------------:|\n",
    "| order_id     |   integer    | Primary Key, Not Null, Auto Increment |\n",
    "| chocolate_id |   integer    | Foreign Key (References Chocolates), Not Null |\n",
    "| customer_id  |   integer    | Foreign Key (References Customers), Not Null  |\n",
    "| order_date   |   date       | Not Null, Default (CURRENT_DATE)    |\n",
    "| order_time   |   time       | Not Null, Default (CURRENT_TIME)   |\n",
    "| order_price  |   decimal(5,2)| Not Null, Check (order_price > 0)     |\n",
    "| quantity     |   integer    | Not Null, Check (quantity > 0)        |"
   ]
  },
  {
   "cell_type": "markdown",
   "metadata": {},
   "source": [
    "___"
   ]
  },
  {
   "cell_type": "markdown",
   "metadata": {},
   "source": [
    "# 2. Data Population\n",
    "\n",
    "<h2 id=\"2a-populate-database\">Sample data creation while ensuring data integrity</h2>\n",
    "\n",
    "### Query to create database and tables from Schema:"
   ]
  },
  {
   "cell_type": "code",
   "execution_count": null,
   "metadata": {
    "vscode": {
     "languageId": "sql"
    }
   },
   "outputs": [],
   "source": [
    "-- Create the new database\n",
    "CREATE DATABASE IF NOT EXISTS choclit;\n",
    "USE choclit;\n",
    "\n",
    "-- Create the Chocolates Dimension Table\n",
    "CREATE TABLE IF NOT EXISTS chocolates (\n",
    "    chocolate_id INT AUTO_INCREMENT PRIMARY KEY,\n",
    "    chocolate_name VARCHAR(128) NOT NULL,\n",
    "    description VARCHAR(256),\n",
    "    price DECIMAL(5,2) NOT NULL CHECK (price > 0),\n",
    "    stock_quantity INT NOT NULL CHECK (stock_quantity >= 0),\n",
    "    reorder_point INT NOT NULL DEFAULT 0,\n",
    "    reorder_amount INT NOT NULL DEFAULT 0\n",
    ");\n",
    "\n",
    "\n",
    "-- Create the Addresses Dimension Table\n",
    "CREATE TABLE IF NOT EXISTS addresses (\n",
    "    address_id INT AUTO_INCREMENT PRIMARY KEY,\n",
    "    state VARCHAR(128) NOT NULL,\n",
    "    city VARCHAR(128) NOT NULL,\n",
    "    zipcode VARCHAR(10) NOT NULL,\n",
    "    street VARCHAR(256) NOT NULL\n",
    ");\n",
    "\n",
    "-- Create the Customers Dimension Table\n",
    "CREATE TABLE IF NOT EXISTS customers (\n",
    "    customer_id INT AUTO_INCREMENT PRIMARY KEY,\n",
    "    fullname VARCHAR(128) NOT NULL,\n",
    "    email VARCHAR(128) NOT NULL UNIQUE,\n",
    "    password_hash VARCHAR(128) NOT NULL,\n",
    "    phone VARCHAR(128) NOT NULL UNIQUE,\n",
    "    address_id INT NOT NULL,\n",
    "    FOREIGN KEY (address_id) REFERENCES addresses(address_id)\n",
    ");\n",
    "\n",
    "\n",
    "-- Create the Orders Fact Table\n",
    "CREATE TABLE IF NOT EXISTS orders (\n",
    "    order_id INT AUTO_INCREMENT PRIMARY KEY,\n",
    "    chocolate_id INT NOT NULL,\n",
    "    customer_id INT NOT NULL,\n",
    "    order_date DATE NOT NULL DEFAULT (CURRENT_DATE),\n",
    "    order_time TIME NOT NULL DEFAULT (CURRENT_TIME),\n",
    "    order_price DECIMAL(5,2) NOT NULL CHECK (order_price > 0),\n",
    "    quantity INT NOT NULL CHECK (quantity > 0),\n",
    "    FOREIGN KEY (chocolate_id) REFERENCES chocolates(chocolate_id),\n",
    "    FOREIGN KEY (customer_id) REFERENCES customers(customer_id)\n",
    ");\n"
   ]
  },
  {
   "cell_type": "markdown",
   "metadata": {},
   "source": [
    "### Query to Insert data into dimension tables:"
   ]
  },
  {
   "cell_type": "code",
   "execution_count": null,
   "metadata": {
    "vscode": {
     "languageId": "sql"
    }
   },
   "outputs": [],
   "source": []
  },
  {
   "cell_type": "markdown",
   "metadata": {},
   "source": [
    "___"
   ]
  },
  {
   "cell_type": "markdown",
   "metadata": {},
   "source": [
    "# 3. Basic Operations\n",
    "\n",
    "<h2 id=\"3a-crud-operations\">CRUD operations for managing chocolate, customers/users, and orders:</h2>\n"
   ]
  },
  {
   "cell_type": "markdown",
   "metadata": {},
   "source": [
    "#### Stored Procedure to Create New Orders:"
   ]
  },
  {
   "cell_type": "code",
   "execution_count": null,
   "metadata": {
    "vscode": {
     "languageId": "sql"
    }
   },
   "outputs": [],
   "source": [
    "DELIMITER //\n",
    "\n",
    "CREATE PROCEDURE CreateOrder(IN _chocolate_id INT, IN _customer_id INT, IN _order_price DECIMAL(5, 2), IN _quantity INT)\n",
    "BEGIN\n",
    "    DECLARE _stock_quantity INT;\n",
    "    SELECT stock_quantity INTO _stock_quantity FROM chocolates WHERE chocolate_id = _chocolate_id;\n",
    "    IF _stock_quantity IS NULL OR _stock_quantity < _quantity THEN\n",
    "        SIGNAL SQLSTATE '45000' SET MESSAGE_TEXT = 'Insufficient chocolate stock or invalid chocolate ID';\n",
    "    ELSE\n",
    "        INSERT INTO orders(chocolate_id, customer_id, order_price, quantity)\n",
    "        VALUES (_chocolate_id, _customer_id, _order_price, _quantity);\n",
    "\n",
    "        UPDATE chocolates SET stock_quantity = stock_quantity - _quantity WHERE chocolate_id = _chocolate_id;\n",
    "    END IF;\n",
    "END;\n",
    "\n",
    "//\n",
    "DELIMITER ;"
   ]
  },
  {
   "cell_type": "markdown",
   "metadata": {},
   "source": [
    "#### Example order creation:\n",
    "\n",
    "``` SQL\n",
    "CALL CreateOrder(1, 100, 9.99, 2);\n",
    "```\n",
    "\n",
    "- Replace `1` with the actual `chocolate_id`, `100` with the `customer_id`, `9.99` with the order price per unit, and `2` with the quantity of chocolates ordered.\n",
    "\n",
    "**Procedure breakdown:**\n",
    "\n",
    "1. Retrieves and checks the stock quantity of the chocolate specified by `_chocolate_id`.\n",
    "2. If there is sufficient stock, it inserts a new order into the `Orders` table with the specified `chocolate_id`, `customer_id`, `order_price`, and `quantity`. The `order_date` and `order_time` fields are automatically populated with the current date and time using `CURRENT_DATE()` and `CURRENT_TIME()`.\n",
    "3. Updates the stock quantity of the chocolate item to reflect the new order."
   ]
  },
  {
   "cell_type": "markdown",
   "metadata": {},
   "source": [
    "<h2 id=\"3b-add-update-delete\">b. Allow users to add, update, and delete records from the database</h2>\n",
    "\n",
    "#### Stored Procedure w/Transactions to create a new customer and assign them to a customer Role upon creation:"
   ]
  },
  {
   "cell_type": "code",
   "execution_count": null,
   "metadata": {
    "vscode": {
     "languageId": "sql"
    }
   },
   "outputs": [],
   "source": [
    "DELIMITER //\n",
    "\n",
    "CREATE PROCEDURE CreateNewCustomer (\n",
    "    IN _fullname VARCHAR(128),\n",
    "    IN _email VARCHAR(128),\n",
    "    IN _password_hash VARCHAR(128),\n",
    "    IN _phone VARCHAR(128),\n",
    "    IN _state VARCHAR(128),\n",
    "    IN _city VARCHAR(128),\n",
    "    IN _zipcode VARCHAR(10),\n",
    "    IN _street VARCHAR(256),\n",
    "    IN _username VARCHAR(128),\n",
    "    IN _userpassword VARCHAR(128)\n",
    ")\n",
    "BEGIN\n",
    "    DECLARE EXIT HANDLER FOR SQLEXCEPTION\n",
    "    BEGIN\n",
    "        -- Rollback on any exception and exit the procedure\n",
    "        ROLLBACK;\n",
    "        RESIGNAL;\n",
    "    END;\n",
    "\n",
    "    -- Start the transaction\n",
    "    START TRANSACTION;\n",
    "    \n",
    "    -- Insert into the address table\n",
    "    INSERT INTO addresses (state, city, zipcode, street)\n",
    "    VALUES (_state, _city, _zipcode, _street);\n",
    "    -- Get the last address id created\n",
    "    SET @address_id := LAST_INSERT_ID();\n",
    "\n",
    "    -- Insert into the customer table\n",
    "    INSERT INTO customers (fullname, email, password_hash, phone, address_id)\n",
    "    VALUES (_fullname, _email, _password_hash, _phone, @address_id);\n",
    "    -- Get the last customer id created\n",
    "    SET @customer_id := LAST_INSERT_ID();\n",
    "\n",
    "    -- Create a new user for the customer with limited privileges\n",
    "    SET @sql = CONCAT('CREATE USER \\'', _username, '\\'@\\'localhost\\' IDENTIFIED BY \\'', _userpassword, '\\'');\n",
    "    PREPARE stmt FROM @sql;\n",
    "    EXECUTE stmt;\n",
    "    DEALLOCATE PREPARE stmt;\n",
    "\n",
    "    -- Grant the customer_user role to the new user\n",
    "    SET @sql = CONCAT('GRANT \\'customer_user\\' TO \\'', _username, '\\'@\\'localhost\\'');\n",
    "    PREPARE stmt FROM @sql;\n",
    "    EXECUTE stmt;\n",
    "    DEALLOCATE PREPARE stmt;\n",
    "\n",
    "    -- Commit the transaction\n",
    "    COMMIT;\n",
    "END;\n",
    "\n",
    "//\n",
    "DELIMITER ;"
   ]
  },
  {
   "cell_type": "markdown",
   "metadata": {},
   "source": [
    "To run this stored procedure with all the necessary parameters:\n",
    "\n",
    "```sql\n",
    "CALL CreateNewCustomer (\n",
    "    'John Doe',                   -- Fullname\n",
    "    'john.doe@example.com',       -- Email\n",
    "    'hashed_password_here',       -- Password hash\n",
    "    '123-1234-1234',              -- Phone\n",
    "    'California',                 -- State\n",
    "    'Los Angeles',                -- City\n",
    "    '90001',                      -- Zipcode\n",
    "    '123 Palm Street',            -- Street\n",
    "    'johndoe',                    -- Username for the MySQL user\n",
    "    'securepassword'              -- Password for the MySQL user\n",
    ");\n",
    "```"
   ]
  },
  {
   "cell_type": "markdown",
   "metadata": {},
   "source": [
    "___"
   ]
  },
  {
   "cell_type": "markdown",
   "metadata": {},
   "source": [
    "# 4. Intermediate Queries\n",
    "\n",
    "<h2 id=\"4a-retrieve-information\">Create queries to retrieve information such as:</h3>\n",
    "\n",
    "<h3 id=\"4ai-top-selling\">Top-selling chocolate:</h3>"
   ]
  },
  {
   "cell_type": "code",
   "execution_count": null,
   "metadata": {
    "vscode": {
     "languageId": "sql"
    }
   },
   "outputs": [],
   "source": []
  },
  {
   "cell_type": "markdown",
   "metadata": {},
   "source": [
    "<h3 id=\"4aii-highest-orders\">Customers with the highest order amounts</h3>"
   ]
  },
  {
   "cell_type": "code",
   "execution_count": null,
   "metadata": {
    "vscode": {
     "languageId": "sql"
    }
   },
   "outputs": [],
   "source": []
  },
  {
   "cell_type": "markdown",
   "metadata": {},
   "source": [
    "<h3 id=\"4aiii-total-revenue\">Total revenue generated over a specific period</h3>"
   ]
  },
  {
   "cell_type": "code",
   "execution_count": null,
   "metadata": {
    "vscode": {
     "languageId": "sql"
    }
   },
   "outputs": [],
   "source": []
  },
  {
   "cell_type": "markdown",
   "metadata": {},
   "source": [
    "<h3 id=\"4aiv-low-inventory\">Chocolate with low inventory levels</h3>"
   ]
  },
  {
   "cell_type": "code",
   "execution_count": null,
   "metadata": {
    "vscode": {
     "languageId": "sql"
    }
   },
   "outputs": [],
   "source": []
  },
  {
   "cell_type": "markdown",
   "metadata": {},
   "source": [
    "___"
   ]
  },
  {
   "cell_type": "markdown",
   "metadata": {},
   "source": [
    "## 5. Advanced Features\n",
    "\n",
    "\n",
    "<h2 id=\"5a-implement-transactions\">a. Transactions implemented to ensure atomicity and consistency during order processing</h2>\n",
    "\n",
    "<h2 id=\"5b-complex-queries\">b. Stored Procedures to answer specific business questions (e.g., identifying patterns in customer behavior)</h2>\n",
    "\n",
    "<h2 id=\"5c-optimize-performance\">c. Query performance optimization</h2>\n",
    "\n",
    "<h2 id=\"5d-role-based-access\">d. Role-based access control to restrict access to sensitive data and operations</h2>\n"
   ]
  },
  {
   "cell_type": "markdown",
   "metadata": {},
   "source": [
    "# 6. Conclusions & Next-Steps\n",
    "\n",
    "<h2 id=\"6a-conclusions\">a. Conclusions</h2>\n",
    "\n",
    "<h2 id=\"6b-next-steps\">b. Next Steps</h2>\n",
    "\n",
    "1. Create a **staff** table to manage staff\n",
    "    - assign staff roles based on their position\n",
    "        - ex: Manager would recieve admin role. Cashiers would recieve employee role (access to employee info and chocolate inventory/price info)\n",
    "2. Create New tables to manage stock ordering and vendor purchase\n",
    "    - **Stock** table for current Stock, reorder point, reorder amount, cost, and current vendor\n",
    "    - **Purchase Orders** table for purchases made to refill stock including, item id, admin_id, customer"
   ]
  }
 ],
 "metadata": {
  "kernelspec": {
   "display_name": "flame",
   "language": "python",
   "name": "python3"
  },
  "language_info": {
   "codemirror_mode": {
    "name": "ipython",
    "version": 3
   },
   "file_extension": ".py",
   "mimetype": "text/x-python",
   "name": "python",
   "nbconvert_exporter": "python",
   "pygments_lexer": "ipython3",
   "version": "3.11.7"
  }
 },
 "nbformat": 4,
 "nbformat_minor": 2
}
