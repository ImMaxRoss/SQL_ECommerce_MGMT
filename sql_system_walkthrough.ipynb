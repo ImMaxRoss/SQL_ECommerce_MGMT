{
 "cells": [
  {
   "cell_type": "markdown",
   "metadata": {},
   "source": [
    "# Cognixia SQL Project: Online Chocolate Shop MGMT System\n",
    "\n",
    "### Project Overview:\n",
    "Design and implement a database system for an online chocolate shop. The system should handle various aspects of managing the shop, including inventory management, customers, orders and user authentication\n",
    "\n",
    "**Skills Demonstrated:**\n",
    "\n",
    "#### Beginner:\n",
    "- Creating tables and defining relationships\n",
    "- Basic CRUD(Create, Read, Update, Delete) operations\n",
    "- Simple queries using SELECT, WHERE, and ORDER BY clauses\n",
    "#### Intermediate:\n",
    "- Implementing constraints and indexes for data integrity and performance optimization\n",
    "- Utilizing JOIN operations for querying data from multiple tables\n",
    "- Aggregating data using GROUP BY and aggregate functions\n",
    "- Implementing views and stored procedures for modularizing queries and operations\n",
    "#### Advanced:\n",
    "- Handling transactions for maintaining data consistency and integrity\n",
    "- Implementing complex queries involving subqueries, common table expressions, and window functions\n",
    "- Performance tuning using query optimization techniques like query plans and indexes\n",
    "- Implementing security measures such as roles and permissions to restrict access to sensitive data\n"
   ]
  },
  {
   "cell_type": "markdown",
   "metadata": {},
   "source": [
    "<h1>Table of Contents</h1>\n",
    "\n",
    "<h2 id=\"1-database-design\">1. Database Design</h2>\n",
    "\n",
    "- <a href=\"#1abc-design-database\">Database Design:</a></li>\n",
    "   - Schema (Star Schema 3NF)\n",
    "   - Table Relationships (PK/FK)\n",
    "   - Feature Constraints\n",
    "\n",
    "<h2 id=\"2-data-population\">2. Data Population</h2>\n",
    "<ul>\n",
    "   <li><a href=\"#2a-populate-database\">a. Sample data used & queries to Ensure data consistency and referential integrity</a></li>\n",
    "</ul>\n",
    "\n",
    "<h2 id=\"3-basic-operations\">3. Basic Operations</h2>\n",
    "<ul>\n",
    "   <li><a href=\"#3a-crud-operations\">CRUD operations for managing chocolate, customers/users, and orders</a></li>\n",
    "</ul>\n",
    "\n",
    "<h2 id=\"4-intermediate-queries\">4. Intermediate Queries</h2>\n",
    "<ul>\n",
    "   <li><a href=\"#4a-retrieve-information\">a. Create queries to retrieve information such as:</a></li>\n",
    "   <ul>\n",
    "     <li><a href=\"#4ai-top-selling\">i. Top-selling chocolate</a></li>\n",
    "     <li><a href=\"#4aii-highest-orders\">ii. Customers with the highest order amounts</a></li>\n",
    "     <li><a href=\"#4aiii-total-revenue\">iii. Total revenue generated over a specific period</a></li>\n",
    "     <li><a href=\"#4aiv-low-inventory\">iv. Chocolate with low inventory levels</a></li>\n",
    "   </ul>\n",
    "</ul>\n",
    "\n",
    "<h2 id=\"5-advanced-features\">5. Advanced Features</h2>\n",
    "<ul>\n",
    "   <li><a href=\"#5b-complex-queries\">a. Stored Procedures to answer specific business questions (e.g., identifying patterns in customer behavior) w/transactions</a></li>\n",
    "   <li><a href=\"#5c-optimize-performance\">b. Query performance optimization</a></li>\n",
    "   <li><a href=\"#5d-role-based-access\">c. Role-based access control to restrict access to sensitive data and operations</a></li>\n",
    "</ul>\n",
    "\n",
    "<h2 id=\"6-conclusions-next\">6. Conclusions & Next Steps</h2>\n",
    "<ul>\n",
    "   <li><a href=\"#6a-conclusions\">a. Conclusions</a></li>\n",
    "   <li><a href=\"#6b-next-steps\">b. next-steps</a></li>\n",
    "</ul>"
   ]
  },
  {
   "cell_type": "markdown",
   "metadata": {},
   "source": [
    "___"
   ]
  },
  {
   "cell_type": "markdown",
   "metadata": {},
   "source": [
    "\n",
    "\n",
    "<h2 id=\"1abc-design-database\">Database Schema, Relationships & Constraints</h2>\n",
    "\n",
    "\n",
    "### Star Schema 3rd Normal Form:\n",
    "\n",
    "### Chocolates Table\n",
    "\n",
    "| Column Name      | Data Type                | Constraints                                    |\n",
    "|------------------|--------------------------|------------------------------------------------|\n",
    "| chocolate_id     | INT                      | AUTO_INCREMENT, PRIMARY KEY                    |\n",
    "| chocolate_name   | VARCHAR(128)             | NOT NULL                                       |\n",
    "| description      | VARCHAR(256)             |                                                |\n",
    "| price            | DECIMAL(5,2)             | NOT NULL, CHECK (`price` > 0)                  |\n",
    "| stock_quantity   | INT                      | NOT NULL, CHECK (`stock_quantity` >= 0)        |\n",
    "| reorder_point    | INT                      | NOT NULL, DEFAULT 0                            |\n",
    "| reorder_amount   | INT                      | NOT NULL, DEFAULT 0                            |\n",
    "\n",
    "---\n",
    "\n",
    "### Addresses Table\n",
    "\n",
    "| Column Name | Data Type     | Constraints                   |\n",
    "|-------------|---------------|-------------------------------|\n",
    "| address_id  | INT           | AUTO_INCREMENT, PRIMARY KEY   |\n",
    "| state       | VARCHAR(128)  | NOT NULL                      |\n",
    "| city        | VARCHAR(128)  | NOT NULL                      |\n",
    "| zipcode     | VARCHAR(10)   | NOT NULL                      |\n",
    "| street      | VARCHAR(256)  | NOT NULL                      |\n",
    "\n",
    "---\n",
    "\n",
    "### Customers Table\n",
    "\n",
    "| Column Name   | Data Type     | Constraints                                    |\n",
    "|---------------|---------------|------------------------------------------------|\n",
    "| customer_id   | INT           | AUTO_INCREMENT, PRIMARY KEY                    |\n",
    "| fullname      | VARCHAR(128)  | NOT NULL                                       |\n",
    "| email         | VARCHAR(128)  | NOT NULL, UNIQUE                               |\n",
    "| password_hash | VARCHAR(128)  | NOT NULL                                       |\n",
    "| phone         | VARCHAR(128)  | NOT NULL, UNIQUE                               |\n",
    "| address_id    | INT           | NOT NULL, FOREIGN KEY REFERENCES `addresses`   |\n",
    "\n",
    "---\n",
    "\n",
    "### Orders Table\n",
    "\n",
    "| Column Name | Data Type     | Constraints                                               |\n",
    "|-------------|---------------|-----------------------------------------------------------|\n",
    "| order_id    | INT           | AUTO_INCREMENT, PRIMARY KEY                               |\n",
    "| customer_id | INT           | NOT NULL, FOREIGN KEY REFERENCES `customers`              |\n",
    "| order_date  | DATE          | NOT NULL, DEFAULT (CURRENT_DATE)                          |\n",
    "| order_time  | TIME          | NOT NULL, DEFAULT (CURRENT_TIME)                          |\n",
    "| order_total | DECIMAL(10,2) | NOT NULL, CHECK (`order_total` > 0)                       |\n",
    "| total_items | INT           | NOT NULL, CHECK (`total_items` >= 0)                      |\n",
    "\n",
    "---\n",
    "\n",
    "### Order Items Table\n",
    "\n",
    "| Column Name   | Data Type | Constraints                                             |\n",
    "|---------------|-----------|---------------------------------------------------------|\n",
    "| order_item_id | INT       | AUTO_INCREMENT, PRIMARY KEY                             |\n",
    "| order_id      | INT       | NOT NULL, FOREIGN KEY REFERENCES `orders`               |\n",
    "| chocolate_id  | INT       | NOT NULL, FOREIGN KEY REFERENCES `chocolates`           |\n",
    "| quantity      | INT       | NOT NULL, CHECK (`quantity` > 0)                        |\n",
    "\n",
    "---"
   ]
  },
  {
   "cell_type": "markdown",
   "metadata": {},
   "source": [
    "___"
   ]
  },
  {
   "cell_type": "markdown",
   "metadata": {},
   "source": [
    "# 2. Data Population\n",
    "\n",
    "<h2 id=\"2a-populate-database\">Sample data creation while ensuring data integrity</h2>\n",
    "\n",
    "### Query to create database and tables from Schema:"
   ]
  },
  {
   "cell_type": "code",
   "execution_count": null,
   "metadata": {
    "vscode": {
     "languageId": "sql"
    }
   },
   "outputs": [],
   "source": [
    "\n",
    "CREATE DATABASE IF NOT EXISTS choclit;\n",
    "USE choclit;\n",
    "\n",
    "\n",
    "CREATE TABLE IF NOT EXISTS chocolates (\n",
    "    chocolate_id INT AUTO_INCREMENT PRIMARY KEY,\n",
    "    chocolate_name VARCHAR(128) NOT NULL,\n",
    "    description VARCHAR(256),\n",
    "    price DECIMAL(5,2) NOT NULL CHECK (price > 0),\n",
    "    stock_quantity INT NOT NULL CHECK (stock_quantity >= 0),\n",
    "    reorder_point INT NOT NULL DEFAULT 0,\n",
    "    reorder_amount INT NOT NULL DEFAULT 0\n",
    ");\n",
    "\n",
    "\n",
    "CREATE TABLE IF NOT EXISTS addresses (\n",
    "    address_id INT AUTO_INCREMENT PRIMARY KEY,\n",
    "    state VARCHAR(128) NOT NULL,\n",
    "    city VARCHAR(128) NOT NULL,\n",
    "    zipcode VARCHAR(10) NOT NULL,\n",
    "    street VARCHAR(256) NOT NULL\n",
    ");\n",
    "\n",
    "\n",
    "CREATE TABLE IF NOT EXISTS customers (\n",
    "    customer_id INT AUTO_INCREMENT PRIMARY KEY,\n",
    "    fullname VARCHAR(128) NOT NULL,\n",
    "    email VARCHAR(128) NOT NULL UNIQUE,\n",
    "    password_hash VARCHAR(128) NOT NULL,\n",
    "    phone VARCHAR(128) NOT NULL UNIQUE,\n",
    "    address_id INT NOT NULL,\n",
    "    FOREIGN KEY (address_id) REFERENCES addresses(address_id)\n",
    ");\n",
    "\n",
    "\n",
    "CREATE TABLE IF NOT EXISTS orders (\n",
    "    order_id INT AUTO_INCREMENT PRIMARY KEY,\n",
    "    customer_id INT NOT NULL,\n",
    "    order_date DATE NOT NULL DEFAULT (CURRENT_DATE),\n",
    "    order_time TIME NOT NULL DEFAULT (CURRENT_TIME),\n",
    "    order_total DECIMAL(10,2) NOT NULL CHECK (order_total > 0) DEFAULT (0),\n",
    "    total_items INT NOT NULL CHECK (total_items >= 0) DEFAULT (0),\n",
    "    FOREIGN KEY (customer_id) REFERENCES customers(customer_id)\n",
    ");\n",
    "\n",
    "CREATE TABLE IF NOT EXISTS order_items (\n",
    "    order_item_id INT AUTO_INCREMENT PRIMARY KEY,\n",
    "    order_id INT NOT NULL,\n",
    "    chocolate_id INT NOT NULL,\n",
    "    quantity INT NOT NULL CHECK (quantity > 0),\n",
    "    FOREIGN KEY (order_id) REFERENCES orders(order_id),\n",
    "    FOREIGN KEY (chocolate_id) REFERENCES chocolates(chocolate_id)\n",
    ");\n"
   ]
  },
  {
   "cell_type": "markdown",
   "metadata": {},
   "source": [
    "### Query to Insert data into dimension tables:"
   ]
  },
  {
   "cell_type": "code",
   "execution_count": null,
   "metadata": {
    "vscode": {
     "languageId": "sql"
    }
   },
   "outputs": [],
   "source": [
    "\n",
    "INSERT INTO chocolates (chocolate_name, description, price, stock_quantity, reorder_point, reorder_amount) VALUES\n",
    "('Dark Chocolate Bar', 'Rich and smooth dark chocolate', 2.99, 100, 10, 50),\n",
    "('Milk Chocolate Bar', 'Creamy and sweet milk chocolate', 2.50, 150, 20, 60),\n",
    "('White Chocolate Bar', 'Sweet white chocolate', 2.75, 80, 15, 30),\n",
    "('Mint Chocolate Bar', 'Dark chocolate with a refreshing mint flavor', 3.20, 75, 10, 40),\n",
    "('Orange Chocolate Bar', 'Milk chocolate infused with orange essence', 3.50, 50, 5, 25),\n",
    "('Chili Chocolate Bar', 'Dark chocolate with a spicy kick of chili', 3.99, 100, 10, 30);\n"
   ]
  },
  {
   "cell_type": "markdown",
   "metadata": {},
   "source": [
    "#### Note: The rest of the data will be created via the stored procedures created later in this walkthrough"
   ]
  },
  {
   "cell_type": "markdown",
   "metadata": {},
   "source": [
    "___"
   ]
  },
  {
   "cell_type": "markdown",
   "metadata": {},
   "source": [
    "# 3. Basic Operations\n",
    "\n",
    "<h2 id=\"3a-crud-operations\">CRUD operations for managing chocolate, and orders:</h2>\n"
   ]
  },
  {
   "cell_type": "markdown",
   "metadata": {},
   "source": [
    "#### Stored Procedure to Create New Orders and Add items to orders:"
   ]
  },
  {
   "cell_type": "markdown",
   "metadata": {},
   "source": [
    "**Stored procedure to Create an order by assigning an order_id to the customer who created it**"
   ]
  },
  {
   "cell_type": "code",
   "execution_count": null,
   "metadata": {
    "vscode": {
     "languageId": "sql"
    }
   },
   "outputs": [],
   "source": [
    "DELIMITER //\n",
    "\n",
    "CREATE PROCEDURE CreateOrder(\n",
    "    IN _customer_id INT,\n",
    "    OUT _order_id INT\n",
    ")\n",
    "BEGIN\n",
    "    START TRANSACTION;\n",
    "    INSERT INTO orders (customer_id)\n",
    "    VALUES (_customer_id);\n",
    "    \n",
    "    SET _order_id = LAST_INSERT_ID();\n",
    "    COMMIT;\n",
    "END;\n",
    "//"
   ]
  },
  {
   "cell_type": "markdown",
   "metadata": {},
   "source": [
    "**Stored procedure to:**\n",
    "1. Add order items with their quantity and current price to the order_items table for specific orders\n",
    "2. Update stock_quantity in chocolates inventory table\n",
    "3. Update orders table with order_total and the order item_total"
   ]
  },
  {
   "cell_type": "code",
   "execution_count": null,
   "metadata": {
    "vscode": {
     "languageId": "sql"
    }
   },
   "outputs": [],
   "source": [
    "DELIMITER //\n",
    "\n",
    "CREATE PROCEDURE AddOrderItem(\n",
    "    IN _order_id INT,\n",
    "    IN _chocolate_id INT, \n",
    "    IN _quantity INT\n",
    ")\n",
    "BEGIN\n",
    "    DECLARE _stock_quantity INT DEFAULT 0;\n",
    "    DECLARE _price DECIMAL(5, 2);\n",
    "    DECLARE _order_total DECIMAL(5, 2) DEFAULT 0;\n",
    "    DECLARE _total_items INT DEFAULT 0;\n",
    "    \n",
    "    -- Select the current stock quantity and price from the chocolates table\n",
    "    SELECT stock_quantity, price INTO _stock_quantity, _price\n",
    "    FROM chocolates \n",
    "    WHERE chocolate_id = _chocolate_id;\n",
    "    \n",
    "    -- Check if there is enough stock to fulfill the order\n",
    "    IF _stock_quantity >= _quantity THEN\n",
    "        -- Insert the order item\n",
    "        INSERT INTO order_items (order_id, chocolate_id, quantity)\n",
    "        VALUES (_order_id, _chocolate_id, _quantity);\n",
    "        \n",
    "        -- Update the chocolates' stock quantity\n",
    "        UPDATE chocolates \n",
    "        SET stock_quantity = stock_quantity - _quantity \n",
    "        WHERE chocolate_id = _chocolate_id;\n",
    "        \n",
    "        -- Calculate the total order price and quantity for the order\n",
    "        SELECT SUM(quantity * (SELECT price FROM chocolates WHERE chocolate_id = order_items.chocolate_id)) INTO _order_total\n",
    "        FROM order_items\n",
    "        WHERE order_id = _order_id;\n",
    "        \n",
    "        SELECT SUM(quantity) INTO _total_items\n",
    "        FROM order_items\n",
    "        WHERE order_id = _order_id;\n",
    "        \n",
    "        -- Update the order's total price and total items\n",
    "        UPDATE orders\n",
    "        SET order_total = _order_total, total_items = _total_items\n",
    "        WHERE order_id = _order_id;\n",
    "    ELSE\n",
    "        SIGNAL SQLSTATE '45000' \n",
    "        SET MESSAGE_TEXT = 'Insufficient chocolate stock';\n",
    "    END IF;\n",
    "END;\n",
    "//\n",
    "DELIMITER ;"
   ]
  },
  {
   "cell_type": "markdown",
   "metadata": {},
   "source": [
    "#### Example order creation:\n",
    "\n",
    "```SQL\n",
    "CALL CreateOrder(1, @new_order_id);\n",
    "```\n",
    "- Newly created order_id in for customer_id 1 with the _new_order_id variable\n",
    "\n",
    "```SQL\n",
    "CALL AddOrderItem(@new_order_id, 5, 10);\n",
    "```\n",
    "- Adds 10 units of chocolate_id = 5 to the order\n"
   ]
  },
  {
   "cell_type": "markdown",
   "metadata": {},
   "source": [
    "___"
   ]
  },
  {
   "cell_type": "markdown",
   "metadata": {},
   "source": [
    "# 4. Intermediate Queries\n",
    "\n",
    "<h2 id=\"4a-retrieve-information\">Create queries to retrieve information such as:</h3>\n",
    "\n",
    "<h3 id=\"4ai-top-selling\">Top-selling chocolate:</h3>"
   ]
  },
  {
   "cell_type": "code",
   "execution_count": null,
   "metadata": {
    "vscode": {
     "languageId": "sql"
    }
   },
   "outputs": [],
   "source": [
    "SELECT chocolate_id, SUM(quantity) AS total_sold\n",
    "FROM orders\n",
    "GROUP BY chocolate_id\n",
    "ORDER BY total_sold DESC\n",
    "LIMIT 1;"
   ]
  },
  {
   "cell_type": "markdown",
   "metadata": {},
   "source": [
    "<h3 id=\"4aii-highest-orders\">Customers with the highest order amounts</h3>"
   ]
  },
  {
   "cell_type": "code",
   "execution_count": null,
   "metadata": {
    "vscode": {
     "languageId": "sql"
    }
   },
   "outputs": [],
   "source": [
    "SELECT customer_id, SUM(order_price * quantity) AS total_amount\n",
    "FROM orders\n",
    "GROUP BY customer_id\n",
    "ORDER BY total_amount DESC\n",
    "LIMIT 1;"
   ]
  },
  {
   "cell_type": "markdown",
   "metadata": {},
   "source": [
    "<h3 id=\"4aiii-total-revenue\">Total revenue generated over a specific period</h3>"
   ]
  },
  {
   "cell_type": "code",
   "execution_count": null,
   "metadata": {
    "vscode": {
     "languageId": "sql"
    }
   },
   "outputs": [],
   "source": [
    "SELECT SUM(order_total * total_items) AS total_revenue\n",
    "FROM orders\n",
    "WHERE order_date BETWEEN '2023-01-01' AND '2023-01-31';"
   ]
  },
  {
   "cell_type": "markdown",
   "metadata": {},
   "source": [
    "<h3 id=\"4aiv-low-inventory\">Chocolate with low inventory levels</h3>"
   ]
  },
  {
   "cell_type": "code",
   "execution_count": null,
   "metadata": {
    "vscode": {
     "languageId": "sql"
    }
   },
   "outputs": [],
   "source": [
    "SELECT chocolate_id \n",
    "FROM chocolates \n",
    "WHERE stock_quantity <= reorder_point;"
   ]
  },
  {
   "cell_type": "markdown",
   "metadata": {},
   "source": [
    "### Detailing customers along with their top purchased chocolate \n",
    "*utilizing joins*"
   ]
  },
  {
   "cell_type": "code",
   "execution_count": null,
   "metadata": {
    "vscode": {
     "languageId": "sql"
    }
   },
   "outputs": [],
   "source": [
    "SELECT \n",
    "    cust.fullname, \n",
    "    cust.email, \n",
    "    choco.chocolate_name,\n",
    "    choco.description\n",
    "FROM \n",
    "    customers AS cust\n",
    "JOIN \n",
    "    orders AS ord ON cust.customer_id = ord.customer_id\n",
    "JOIN \n",
    "    chocolates AS choco ON ord.chocolate_id = choco.chocolate_id\n",
    "WHERE \n",
    "    choco.chocolate_id = (SELECT chocolate_id FROM top_selling_chocolate);"
   ]
  },
  {
   "cell_type": "markdown",
   "metadata": {},
   "source": [
    "___"
   ]
  },
  {
   "cell_type": "markdown",
   "metadata": {},
   "source": [
    "## 5. Advanced Features\n",
    "\n",
    "\n",
    "<h2 id=\"5b-complex-queries\">a. Stored Procedures to answer specific business questions (e.g., identifying patterns in customer behavior) w/transactions</h2>\n",
    "\n",
    "#### Stored Procedure To Analyze Inventory Levels:"
   ]
  },
  {
   "cell_type": "code",
   "execution_count": null,
   "metadata": {
    "vscode": {
     "languageId": "sql"
    }
   },
   "outputs": [],
   "source": [
    "DELIMITER //\n",
    "\n",
    "CREATE PROCEDURE AnalyzeChocolateSales(IN _chocolate_id INT)\n",
    "BEGIN\n",
    "    DECLARE total_recent_sales INT DEFAULT 0;\n",
    "    DECLARE avg_historical_sales DECIMAL(10,2) DEFAULT 0.0;\n",
    "    DECLARE start_date DATE;\n",
    "    DECLARE end_date DATE;\n",
    "\n",
    "    SET end_date = CURDATE();\n",
    "    SET start_date = DATE_SUB(end_date, INTERVAL 3 MONTH);\n",
    "\n",
    "    START TRANSACTION;\n",
    "    \n",
    "    SELECT SUM(quantity) INTO total_recent_sales\n",
    "    FROM orders\n",
    "    WHERE chocolate_id = _chocolate_id\n",
    "        AND order_date BETWEEN start_date AND end_date\n",
    "    LOCK IN SHARE MODE;\n",
    "    \n",
    "    SELECT AVG(yearly_sales.quantity) INTO avg_historical_sales\n",
    "    FROM (\n",
    "        SELECT SUM(quantity) AS quantity\n",
    "        FROM orders\n",
    "        WHERE chocolate_id = _chocolate_id\n",
    "            AND MONTH(order_date) BETWEEN MONTH(start_date) AND MONTH(end_date)\n",
    "            AND YEAR(order_date) < YEAR(CURDATE())\n",
    "        GROUP BY YEAR(order_date)\n",
    "    ) AS yearly_sales;\n",
    "    \n",
    "    SELECT total_recent_sales, avg_historical_sales;\n",
    "    \n",
    "    COMMIT;\n",
    "END;\n",
    "\n",
    "//\n",
    "DELIMITER ;"
   ]
  },
  {
   "cell_type": "markdown",
   "metadata": {},
   "source": [
    "To call this stored procedure, you would use the chocolate item's ID that you want to evaluate:\n",
    "\n",
    "```SQL\n",
    "CALL AnalyzeChocolateSales(1);\n",
    "```"
   ]
  },
  {
   "cell_type": "markdown",
   "metadata": {},
   "source": [
    "#### Stored Procedure to Analyze If Price Change of an Item is Necessary\n",
    "\n",
    "*(For clearer insights into price adjustment we would want to consider current cost of goods as well as things like competitor pricing but since the data is synthetic and limited this procedure is used as a holding place/starting point)*"
   ]
  },
  {
   "cell_type": "code",
   "execution_count": null,
   "metadata": {
    "vscode": {
     "languageId": "sql"
    }
   },
   "outputs": [],
   "source": [
    "DELIMITER //\n",
    "\n",
    "CREATE PROCEDURE AnalyzePriceAdjustment(IN _chocolate_id INT)\n",
    "BEGIN\n",
    "    DECLARE _current_sales_velocity INT;\n",
    "    DECLARE _historical_sales_velocity INT;\n",
    "    DECLARE _average_stock INT;\n",
    "    DECLARE _reorder_point INT;\n",
    "    DECLARE _price DECIMAL(10, 2);\n",
    "    DECLARE _suggested_change DECIMAL(10, 2);\n",
    "\n",
    "\n",
    "    SELECT price INTO _price FROM chocolates WHERE chocolate_id = _chocolate_id;\n",
    "\n",
    "\n",
    "    SELECT CEIL(AVG(quantity)) INTO _current_sales_velocity\n",
    "    FROM orders\n",
    "    WHERE chocolate_id = _chocolate_id\n",
    "      AND order_date BETWEEN DATE_SUB(CURDATE(), INTERVAL 3 MONTH) AND CURDATE();\n",
    "\n",
    "\n",
    "    SELECT CEIL(AVG(quantity)) INTO _historical_sales_velocity\n",
    "    FROM orders\n",
    "    WHERE chocolate_id = _chocolate_id\n",
    "      AND order_date < DATE_SUB(CURDATE(), INTERVAL 3 MONTH);\n",
    "\n",
    "\n",
    "    SELECT AVG(stock_quantity) INTO _average_stock FROM chocolates WHERE chocolate_id = _chocolate_id;\n",
    "    SELECT reorder_point INTO _reorder_point FROM chocolates WHERE chocolate_id = _chocolate_id;\n",
    "\n",
    "\n",
    "    IF _current_sales_velocity > _average_stock AND _current_sales_velocity > _reorder_point THEN\n",
    "\n",
    "        SET _suggested_change = _price * 0.10;\n",
    "        SELECT _price AS CurrentPrice, _suggested_change AS SuggestedChange, 'Increase' AS ChangeType;\n",
    "    ELSEIF _current_sales_velocity < _historical_sales_velocity THEN\n",
    "\n",
    "        SET _suggested_change = -(_price * 0.10);\n",
    "        SELECT _price AS CurrentPrice, _suggested_change AS SuggestedChange, 'Decrease' AS ChangeType;\n",
    "    ELSE\n",
    "\n",
    "        SET _suggested_change = 0;\n",
    "        SELECT _price AS CurrentPrice, _suggested_change AS SuggestedChange, 'No Change' AS ChangeType;\n",
    "    END IF;\n",
    "END;\n",
    "\n",
    "//\n",
    "DELIMITER //"
   ]
  },
  {
   "cell_type": "markdown",
   "metadata": {},
   "source": [
    "Actions performed in this procedure:\n",
    "1. Calculate the current sales velocity for the last 3 months.\n",
    "2. Calculate the historical sales velocity from before the last 3 months.\n",
    "3. Suggest a price increase if the current sales velocity is higher than both the average stock and reorder point.\n",
    "4. Suggest a price decrease if the current sales velocity is less than the historical sales velocity.\n",
    "5. If there's no significant change, suggest no price adjustment.\n",
    "\n",
    "Execute the procedure by passing the chocolate item's ID:\n",
    "\n",
    "```SQL\n",
    "CALL AnalyzePriceAdjustment(1);\n",
    "```"
   ]
  },
  {
   "cell_type": "markdown",
   "metadata": {},
   "source": [
    "<h2 id=\"5c-optimize-performance\">b. Query performance optimization</h2>"
   ]
  },
  {
   "cell_type": "code",
   "execution_count": null,
   "metadata": {
    "vscode": {
     "languageId": "sql"
    }
   },
   "outputs": [],
   "source": [
    "EXPLAIN SELECT \n",
    "    cust.fullname, \n",
    "    cust.email, \n",
    "    choco.chocolate_name,\n",
    "    choco.description\n",
    "FROM \n",
    "    customers AS cust\n",
    "JOIN \n",
    "    orders AS ord ON cust.customer_id = ord.customer_id\n",
    "JOIN \n",
    "    chocolates AS choco ON ord.chocolate_id = choco.chocolate_id\n",
    "WHERE \n",
    "    choco.chocolate_id = (SELECT chocolate_id FROM top_selling_chocolate);"
   ]
  },
  {
   "cell_type": "markdown",
   "metadata": {},
   "source": [
    "<h2 id=\"5d-role-based-access\">c. Role-based access control to restrict access to sensitive data and operations</h2>"
   ]
  },
  {
   "cell_type": "code",
   "execution_count": null,
   "metadata": {
    "vscode": {
     "languageId": "sql"
    }
   },
   "outputs": [],
   "source": [
    "CREATE ROLE customer_user;\n",
    "GRANT INSERT, SELECT ON customers TO customer_user;\n",
    "GRANT INSERT ON addresses TO customer_user;\n",
    "GRANT SELECT (chocolate_id, chocolate_name, description, price, stock_quantity) ON chocolates TO 'customer_user';\n",
    "GRANT INSERT, UPDATE ON orders TO customer_user;\n",
    "GRANT INSERT ON order_items TO customer_user;\n",
    "GRANT EXECUTE ON PROCEDURE CreateNewCustomer TO customer_user;\n",
    "GRANT EXECUTE ON PROCEDURE CreateOrder TO customer_user;\n",
    "GRANT EXECUTE ON PROCEDURE AddOrderItem TO customer_user;"
   ]
  },
  {
   "cell_type": "code",
   "execution_count": null,
   "metadata": {
    "vscode": {
     "languageId": "sql"
    }
   },
   "outputs": [],
   "source": [
    "DELIMITER //\n",
    "\n",
    "CREATE PROCEDURE CreateNewCustomer (\n",
    "    IN _fullname VARCHAR(128),\n",
    "    IN _email VARCHAR(128),\n",
    "    IN _password VARCHAR(128),\n",
    "    IN _phone VARCHAR(128),\n",
    "    IN _state VARCHAR(128),\n",
    "    IN _city VARCHAR(128),\n",
    "    IN _zipcode VARCHAR(10),\n",
    "    IN _street VARCHAR(256)\n",
    ")\n",
    "BEGIN\n",
    "    DECLARE _password_hash VARCHAR(128);\n",
    "    DECLARE _username VARCHAR(128);\n",
    "    DECLARE _user_id INT;\n",
    "    \n",
    "    DECLARE EXIT HANDLER FOR SQLEXCEPTION\n",
    "    BEGIN\n",
    "        ROLLBACK;\n",
    "        RESIGNAL;\n",
    "    END;\n",
    "\n",
    "    SET _password_hash = SHA2(_password, 256);\n",
    "    SET _username = REPLACE(_email, '@', '_at_'); \n",
    "\n",
    "    START TRANSACTION;\n",
    "    \n",
    "    INSERT INTO addresses (state, city, zipcode, street)\n",
    "    VALUES (_state, _city, _zipcode, _street);\n",
    "    \n",
    "    SET @address_id := LAST_INSERT_ID();\n",
    "\n",
    "    INSERT INTO customers (fullname, email, password_hash, phone, address_id)\n",
    "    VALUES (_fullname, _email, _password_hash, _phone, @address_id);\n",
    "\n",
    "    SET _user_id := LAST_INSERT_ID();\n",
    "\n",
    "    \n",
    "    SET @sql = CONCAT('CREATE USER ', QUOTE(_username), ' IDENTIFIED BY ', QUOTE(_password_hash), ';');\n",
    "    PREPARE stmt FROM @sql;\n",
    "    EXECUTE stmt;\n",
    "    DEALLOCATE PREPARE stmt;\n",
    "\n",
    "    \n",
    "    SET @sql = CONCAT('GRANT customer_user TO ', QUOTE(_username), ';');\n",
    "    PREPARE stmt FROM @sql;\n",
    "    EXECUTE stmt;\n",
    "    DEALLOCATE PREPARE stmt;\n",
    "    \n",
    "    COMMIT;\n",
    "END;\n",
    "\n",
    "//\n",
    "DELIMITER ;\n"
   ]
  },
  {
   "cell_type": "markdown",
   "metadata": {},
   "source": [
    "To run this stored procedure with all the necessary parameters:\n",
    "\n",
    "```sql\n",
    "CALL CreateNewCustomer(\n",
    "    'Jane Smith',\n",
    "    'jane.smith@example.com',\n",
    "    'plainpassword123',\n",
    "    '555-4321',\n",
    "    'New York',\n",
    "    'New York City',\n",
    "    '10001',\n",
    "    '42 Maple Street'\n",
    ");\n",
    "```"
   ]
  },
  {
   "cell_type": "markdown",
   "metadata": {},
   "source": [
    "# 6. Conclusions & Next-Steps\n",
    "\n",
    "<h2 id=\"6a-conclusions\">a. Conclusions</h2>\n",
    "\n",
    "<h2 id=\"6b-next-steps\">b. Next Steps</h2>\n",
    "\n",
    "1. Create a **staff** table to manage staff\n",
    "    - assign staff roles based on their position\n",
    "        - ex: Manager would recieve admin role. Cashiers would recieve employee role (access to employee info and chocolate inventory/price info)\n",
    "2. Create New tables to manage stock ordering and vendor purchase\n",
    "    - **Stock** table for current Stock, reorder point, reorder amount, cost, and current vendor\n",
    "    - **Purchase Orders** table for purchases made to refill stock including, item id, admin_id, customer"
   ]
  }
 ],
 "metadata": {
  "kernelspec": {
   "display_name": "flame",
   "language": "python",
   "name": "python3"
  },
  "language_info": {
   "codemirror_mode": {
    "name": "ipython",
    "version": 3
   },
   "file_extension": ".py",
   "mimetype": "text/x-python",
   "name": "python",
   "nbconvert_exporter": "python",
   "pygments_lexer": "ipython3",
   "version": "3.11.7"
  }
 },
 "nbformat": 4,
 "nbformat_minor": 2
}
